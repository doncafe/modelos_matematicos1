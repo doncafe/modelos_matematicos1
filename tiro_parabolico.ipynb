{
  "nbformat": 4,
  "nbformat_minor": 0,
  "metadata": {
    "colab": {
      "name": "tiro_parabolico.ipynb",
      "provenance": [],
      "collapsed_sections": [],
      "authorship_tag": "ABX9TyN4g/epeypsgIptuuctikgw",
      "include_colab_link": true
    },
    "kernelspec": {
      "name": "python3",
      "display_name": "Python 3"
    },
    "language_info": {
      "name": "python"
    }
  },
  "cells": [
    {
      "cell_type": "markdown",
      "metadata": {
        "id": "view-in-github",
        "colab_type": "text"
      },
      "source": [
        "<a href=\"https://colab.research.google.com/github/doncafe/modelos_matematicos1/blob/main/tiro_parabolico.ipynb\" target=\"_parent\"><img src=\"https://colab.research.google.com/assets/colab-badge.svg\" alt=\"Open In Colab\"/></a>"
      ]
    },
    {
      "cell_type": "markdown",
      "metadata": {
        "id": "qCAtWs2OaqUS"
      },
      "source": [
        "**Programa en Python de tiro parabolico**"
      ]
    },
    {
      "cell_type": "code",
      "metadata": {
        "colab": {
          "base_uri": "https://localhost:8080/",
          "height": 313
        },
        "id": "zeCBIVPWZMkL",
        "outputId": "b19e7bdb-88b8-4886-9b88-687b736b3c10"
      },
      "source": [
        "## Script tiro parabolico\n",
        "# author: Pavel\n",
        "\n",
        "import numpy as np\n",
        "from matplotlib import pyplot as plt\n",
        "\n",
        "# Parametros\n",
        "v0 = 5.0\n",
        "g = 9.81\n",
        "\n",
        "# tiempo de observacion\n",
        "t = np.linspace(0.0,20.0,100)\n",
        "\n",
        "\n",
        "# Cinematica de la parabola\n",
        "y = v0 * t - 0.5 * g * t ** 2\n",
        "\n",
        "plt.plot(t, y, '*')\n",
        "plt.title('Tiro Parabolico')\n",
        "plt.xlabel('tiempo [s]')\n",
        "plt.ylabel('Altura [m]')\n"
      ],
      "execution_count": null,
      "outputs": [
        {
          "output_type": "execute_result",
          "data": {
            "text/plain": [
              "Text(0, 0.5, 'Altura [m]')"
            ]
          },
          "metadata": {
            "tags": []
          },
          "execution_count": 18
        },
        {
          "output_type": "display_data",
          "data": {
            "image/png": "[encoded data removed]",
            "text/plain": [
              "<Figure size 432x288 with 1 Axes>"
            ]
          },
          "metadata": {
            "tags": [],
            "needs_background": "light"
          }
        }
      ]
    }
  ]
}